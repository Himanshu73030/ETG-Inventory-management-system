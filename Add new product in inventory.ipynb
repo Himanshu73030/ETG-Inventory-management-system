{
 "cells": [
  {
   "cell_type": "markdown",
   "id": "63426b6a",
   "metadata": {},
   "source": [
    "# Add Inventory"
   ]
  },
  {
   "cell_type": "code",
   "execution_count": 27,
   "id": "511149c6",
   "metadata": {},
   "outputs": [
    {
     "name": "stdout",
     "output_type": "stream",
     "text": [
      "Add new product in the record\n",
      "Enter a product ID:-1040\n",
      "Enter a product name:-UPKARMA Kesar\n",
      "Enter a product category:-cooking\n",
      "Enter a price of product:-399\n",
      "Enter a product discount:-20\n",
      "Enter a product quantity:-50\n",
      "New product added successfully \n"
     ]
    }
   ],
   "source": [
    "import json\n",
    "\n",
    "print(\"Add new product in the record\")\n",
    "prod_id=input(\"Enter a product ID:-\")\n",
    "prod_name=input(\"Enter a product name:-\")\n",
    "prod_cat=input(\"Enter a product category:-\")\n",
    "prod_price=int(input(\"Enter a price of product:-\"))\n",
    "prod_dis=int(input(\"Enter a product discount:-\"))\n",
    "prod_quant=int(input(\"Enter a product quantity:-\"))\n",
    "\n",
    "fd=open('record.json','r')\n",
    "txt=fd.read()\n",
    "fd.close()\n",
    "inventory_list=json.loads(txt)\n",
    "\n",
    "\n",
    "if prod_id in inventory_list:\n",
    "    if inventory_list[prod_id]['name']!=prod_name:\n",
    "        print(\"This peoduct ID is already in use\")\n",
    "    else:\n",
    "        inventory_list[prod_id]['quantity']=inventory_list[prod_id]['quantity']+prod_quant\n",
    "else:\n",
    "    inventory_list[prod_id]={'name':prod_name,'price':prod_price,'quantity':prod_quant,'category':prod_cat,'discount':prod_dis}\n",
    "\n",
    "j=json.dumps(inventory_list)\n",
    "\n",
    "fd=open('record.json','w')\n",
    "fd.write(j)\n",
    "fd.close()\n",
    "print(\"New product added successfully \")\n",
    "\n",
    "\n"
   ]
  },
  {
   "cell_type": "code",
   "execution_count": null,
   "id": "b14eb820",
   "metadata": {},
   "outputs": [],
   "source": []
  },
  {
   "cell_type": "code",
   "execution_count": null,
   "id": "3c8ce3e8",
   "metadata": {},
   "outputs": [],
   "source": []
  }
 ],
 "metadata": {
  "kernelspec": {
   "display_name": "Python 3",
   "language": "python",
   "name": "python3"
  },
  "language_info": {
   "codemirror_mode": {
    "name": "ipython",
    "version": 3
   },
   "file_extension": ".py",
   "mimetype": "text/x-python",
   "name": "python",
   "nbconvert_exporter": "python",
   "pygments_lexer": "ipython3",
   "version": "3.8.8"
  }
 },
 "nbformat": 4,
 "nbformat_minor": 5
}
