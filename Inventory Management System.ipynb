{
 "cells": [
  {
   "cell_type": "markdown",
   "id": "478f1369",
   "metadata": {},
   "source": [
    "# Inventory Management System\n"
   ]
  },
  {
   "cell_type": "code",
   "execution_count": 5,
   "id": "ab756ac1",
   "metadata": {},
   "outputs": [],
   "source": [
    "import json\n",
    "import time\n",
    "print(\"Enter ID between 1000 to 1040\")\n",
    "product_id=input(\"Entr a product ID:-\")\n",
    "product_quant =int(input(\"Enter a product Quantity:-\"))\n",
    "fd=open('Record.json','r')\n",
    "txt=fd.read()\n",
    "fd.close()\n",
    "inventory_list=json.loads(txt)\n",
    "if product_id in inventory_list:\n",
    "    print(\"Product name:-\",inventory_list[product_id]['name'])\n",
    "    print(\"Product price:-\",inventory_list[product_id]['price'])\n",
    "    print(\"Product quantity:-\",inventory_list[product_id]['quantity'])\n",
    "    print(\"Product discount:-\",str(inventory_list[product_id]['discount'])+\"%\")\n",
    "    print(\"purchased Quantity:-\",product_quant)\n",
    "    print(\"-------------------------------------\")\n",
    "    b=(inventory_list[product_id]['price'])*product_quant\n",
    "    bill=b*(100-(inventory_list[product_id]['discount']))/100\n",
    "    print(\"Total bill:-\",str(bill)+\"₹\")\n",
    "else:\n",
    "    print(\"This product is not avaialable here \\n Please enter valid input\")\n",
    "time.ctime()\n",
    "inventory_list[product_id]['quantity']=(inventory_list[product_id]['quantity'])-product_quant\n",
    "txt=json.dump(inventory_list)\n",
    "fd=open('Record.json','w')\n",
    "fd.write(txt)\n",
    "fd.close()"
   ]
  },
  {
   "cell_type": "code",
   "execution_count": null,
   "id": "5c667904",
   "metadata": {},
   "outputs": [],
   "source": []
  }
 ],
 "metadata": {
  "kernelspec": {
   "display_name": "Python 3",
   "language": "python",
   "name": "python3"
  },
  "language_info": {
   "codemirror_mode": {
    "name": "ipython",
    "version": 3
   },
   "file_extension": ".py",
   "mimetype": "text/x-python",
   "name": "python",
   "nbconvert_exporter": "python",
   "pygments_lexer": "ipython3",
   "version": "3.8.8"
  }
 },
 "nbformat": 4,
 "nbformat_minor": 5
}
